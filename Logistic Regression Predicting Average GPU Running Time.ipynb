{
 "cells": [
  {
   "cell_type": "code",
   "execution_count": 112,
   "metadata": {},
   "outputs": [],
   "source": [
    "import numpy as np\n",
    "import pandas as pd\n",
    "import matplotlib.pyplot as plt\n",
    "import seaborn"
   ]
  },
  {
   "cell_type": "code",
   "execution_count": 113,
   "metadata": {},
   "outputs": [],
   "source": [
    "data = pd.read_csv('sgemm_product.csv')"
   ]
  },
  {
   "cell_type": "code",
   "execution_count": 114,
   "metadata": {},
   "outputs": [],
   "source": [
    "data['Mean_Runtime'] = (data['Run1 (ms)'] + data['Run2 (ms)'] + data['Run3 (ms)'] + data['Run4 (ms)'])/4"
   ]
  },
  {
   "cell_type": "code",
   "execution_count": 115,
   "metadata": {},
   "outputs": [],
   "source": [
    "data = data.drop(['Run1 (ms)', 'Run2 (ms)', 'Run3 (ms)','Run4 (ms)'], axis = 1)"
   ]
  },
  {
   "cell_type": "code",
   "execution_count": 116,
   "metadata": {},
   "outputs": [],
   "source": [
    "x = data.iloc[:,0:-1].values\n",
    "y = data['Mean_Runtime'].values"
   ]
  },
  {
   "cell_type": "code",
   "execution_count": 117,
   "metadata": {},
   "outputs": [
    {
     "name": "stdout",
     "output_type": "stream",
     "text": [
      "(241600, 14)\n",
      "<class 'numpy.ndarray'>\n",
      "(241600,)\n",
      "<class 'numpy.ndarray'>\n"
     ]
    }
   ],
   "source": [
    "print(x.shape)\n",
    "\n",
    "print(type(x))\n",
    "\n",
    "print(y.shape)\n",
    "\n",
    "print(type(y))"
   ]
  },
  {
   "cell_type": "code",
   "execution_count": 118,
   "metadata": {},
   "outputs": [],
   "source": [
    "median = data['Mean_Runtime'].median()\n",
    "data.loc[data['Mean_Runtime'] >= median, 'Mean_Runtime_1'] = 1\n",
    "data.loc[data['Mean_Runtime'] < median, 'Mean_Runtime_1'] = 0"
   ]
  },
  {
   "cell_type": "code",
   "execution_count": 119,
   "metadata": {},
   "outputs": [
    {
     "data": {
      "text/html": [
       "<div>\n",
       "<style scoped>\n",
       "    .dataframe tbody tr th:only-of-type {\n",
       "        vertical-align: middle;\n",
       "    }\n",
       "\n",
       "    .dataframe tbody tr th {\n",
       "        vertical-align: top;\n",
       "    }\n",
       "\n",
       "    .dataframe thead th {\n",
       "        text-align: right;\n",
       "    }\n",
       "</style>\n",
       "<table border=\"1\" class=\"dataframe\">\n",
       "  <thead>\n",
       "    <tr style=\"text-align: right;\">\n",
       "      <th></th>\n",
       "      <th>MWG</th>\n",
       "      <th>NWG</th>\n",
       "      <th>KWG</th>\n",
       "      <th>MDIMC</th>\n",
       "      <th>NDIMC</th>\n",
       "      <th>MDIMA</th>\n",
       "      <th>NDIMB</th>\n",
       "      <th>KWI</th>\n",
       "      <th>VWM</th>\n",
       "      <th>VWN</th>\n",
       "      <th>STRM</th>\n",
       "      <th>STRN</th>\n",
       "      <th>SA</th>\n",
       "      <th>SB</th>\n",
       "      <th>Mean_Runtime</th>\n",
       "      <th>Mean_Runtime_1</th>\n",
       "    </tr>\n",
       "  </thead>\n",
       "  <tbody>\n",
       "    <tr>\n",
       "      <th>0</th>\n",
       "      <td>16</td>\n",
       "      <td>16</td>\n",
       "      <td>16</td>\n",
       "      <td>8</td>\n",
       "      <td>8</td>\n",
       "      <td>8</td>\n",
       "      <td>8</td>\n",
       "      <td>2</td>\n",
       "      <td>1</td>\n",
       "      <td>1</td>\n",
       "      <td>0</td>\n",
       "      <td>0</td>\n",
       "      <td>0</td>\n",
       "      <td>0</td>\n",
       "      <td>116.3700</td>\n",
       "      <td>1.0</td>\n",
       "    </tr>\n",
       "    <tr>\n",
       "      <th>1</th>\n",
       "      <td>16</td>\n",
       "      <td>16</td>\n",
       "      <td>16</td>\n",
       "      <td>8</td>\n",
       "      <td>8</td>\n",
       "      <td>8</td>\n",
       "      <td>8</td>\n",
       "      <td>2</td>\n",
       "      <td>1</td>\n",
       "      <td>1</td>\n",
       "      <td>0</td>\n",
       "      <td>0</td>\n",
       "      <td>0</td>\n",
       "      <td>1</td>\n",
       "      <td>78.7050</td>\n",
       "      <td>1.0</td>\n",
       "    </tr>\n",
       "    <tr>\n",
       "      <th>2</th>\n",
       "      <td>16</td>\n",
       "      <td>16</td>\n",
       "      <td>16</td>\n",
       "      <td>8</td>\n",
       "      <td>8</td>\n",
       "      <td>8</td>\n",
       "      <td>8</td>\n",
       "      <td>2</td>\n",
       "      <td>1</td>\n",
       "      <td>1</td>\n",
       "      <td>0</td>\n",
       "      <td>0</td>\n",
       "      <td>1</td>\n",
       "      <td>0</td>\n",
       "      <td>80.5650</td>\n",
       "      <td>1.0</td>\n",
       "    </tr>\n",
       "    <tr>\n",
       "      <th>3</th>\n",
       "      <td>16</td>\n",
       "      <td>16</td>\n",
       "      <td>16</td>\n",
       "      <td>8</td>\n",
       "      <td>8</td>\n",
       "      <td>8</td>\n",
       "      <td>8</td>\n",
       "      <td>2</td>\n",
       "      <td>1</td>\n",
       "      <td>1</td>\n",
       "      <td>0</td>\n",
       "      <td>0</td>\n",
       "      <td>1</td>\n",
       "      <td>1</td>\n",
       "      <td>86.6375</td>\n",
       "      <td>1.0</td>\n",
       "    </tr>\n",
       "    <tr>\n",
       "      <th>4</th>\n",
       "      <td>16</td>\n",
       "      <td>16</td>\n",
       "      <td>16</td>\n",
       "      <td>8</td>\n",
       "      <td>8</td>\n",
       "      <td>8</td>\n",
       "      <td>8</td>\n",
       "      <td>2</td>\n",
       "      <td>1</td>\n",
       "      <td>1</td>\n",
       "      <td>0</td>\n",
       "      <td>1</td>\n",
       "      <td>0</td>\n",
       "      <td>0</td>\n",
       "      <td>118.6625</td>\n",
       "      <td>1.0</td>\n",
       "    </tr>\n",
       "  </tbody>\n",
       "</table>\n",
       "</div>"
      ],
      "text/plain": [
       "   MWG  NWG  KWG  MDIMC  NDIMC  MDIMA  NDIMB  KWI  VWM  VWN  STRM  STRN  SA  \\\n",
       "0   16   16   16      8      8      8      8    2    1    1     0     0   0   \n",
       "1   16   16   16      8      8      8      8    2    1    1     0     0   0   \n",
       "2   16   16   16      8      8      8      8    2    1    1     0     0   1   \n",
       "3   16   16   16      8      8      8      8    2    1    1     0     0   1   \n",
       "4   16   16   16      8      8      8      8    2    1    1     0     1   0   \n",
       "\n",
       "   SB  Mean_Runtime  Mean_Runtime_1  \n",
       "0   0      116.3700             1.0  \n",
       "1   1       78.7050             1.0  \n",
       "2   0       80.5650             1.0  \n",
       "3   1       86.6375             1.0  \n",
       "4   0      118.6625             1.0  "
      ]
     },
     "execution_count": 119,
     "metadata": {},
     "output_type": "execute_result"
    }
   ],
   "source": [
    "data.head()"
   ]
  },
  {
   "cell_type": "code",
   "execution_count": 120,
   "metadata": {},
   "outputs": [],
   "source": [
    "data = data.drop(['Mean_Runtime'], axis = 1)"
   ]
  },
  {
   "cell_type": "code",
   "execution_count": 121,
   "metadata": {},
   "outputs": [
    {
     "data": {
      "text/html": [
       "<div>\n",
       "<style scoped>\n",
       "    .dataframe tbody tr th:only-of-type {\n",
       "        vertical-align: middle;\n",
       "    }\n",
       "\n",
       "    .dataframe tbody tr th {\n",
       "        vertical-align: top;\n",
       "    }\n",
       "\n",
       "    .dataframe thead th {\n",
       "        text-align: right;\n",
       "    }\n",
       "</style>\n",
       "<table border=\"1\" class=\"dataframe\">\n",
       "  <thead>\n",
       "    <tr style=\"text-align: right;\">\n",
       "      <th></th>\n",
       "      <th>MWG</th>\n",
       "      <th>NWG</th>\n",
       "      <th>KWG</th>\n",
       "      <th>MDIMC</th>\n",
       "      <th>NDIMC</th>\n",
       "      <th>MDIMA</th>\n",
       "      <th>NDIMB</th>\n",
       "      <th>KWI</th>\n",
       "      <th>VWM</th>\n",
       "      <th>VWN</th>\n",
       "      <th>STRM</th>\n",
       "      <th>STRN</th>\n",
       "      <th>SA</th>\n",
       "      <th>SB</th>\n",
       "      <th>Mean_Runtime_1</th>\n",
       "    </tr>\n",
       "  </thead>\n",
       "  <tbody>\n",
       "    <tr>\n",
       "      <th>0</th>\n",
       "      <td>16</td>\n",
       "      <td>16</td>\n",
       "      <td>16</td>\n",
       "      <td>8</td>\n",
       "      <td>8</td>\n",
       "      <td>8</td>\n",
       "      <td>8</td>\n",
       "      <td>2</td>\n",
       "      <td>1</td>\n",
       "      <td>1</td>\n",
       "      <td>0</td>\n",
       "      <td>0</td>\n",
       "      <td>0</td>\n",
       "      <td>0</td>\n",
       "      <td>1.0</td>\n",
       "    </tr>\n",
       "    <tr>\n",
       "      <th>1</th>\n",
       "      <td>16</td>\n",
       "      <td>16</td>\n",
       "      <td>16</td>\n",
       "      <td>8</td>\n",
       "      <td>8</td>\n",
       "      <td>8</td>\n",
       "      <td>8</td>\n",
       "      <td>2</td>\n",
       "      <td>1</td>\n",
       "      <td>1</td>\n",
       "      <td>0</td>\n",
       "      <td>0</td>\n",
       "      <td>0</td>\n",
       "      <td>1</td>\n",
       "      <td>1.0</td>\n",
       "    </tr>\n",
       "    <tr>\n",
       "      <th>2</th>\n",
       "      <td>16</td>\n",
       "      <td>16</td>\n",
       "      <td>16</td>\n",
       "      <td>8</td>\n",
       "      <td>8</td>\n",
       "      <td>8</td>\n",
       "      <td>8</td>\n",
       "      <td>2</td>\n",
       "      <td>1</td>\n",
       "      <td>1</td>\n",
       "      <td>0</td>\n",
       "      <td>0</td>\n",
       "      <td>1</td>\n",
       "      <td>0</td>\n",
       "      <td>1.0</td>\n",
       "    </tr>\n",
       "    <tr>\n",
       "      <th>3</th>\n",
       "      <td>16</td>\n",
       "      <td>16</td>\n",
       "      <td>16</td>\n",
       "      <td>8</td>\n",
       "      <td>8</td>\n",
       "      <td>8</td>\n",
       "      <td>8</td>\n",
       "      <td>2</td>\n",
       "      <td>1</td>\n",
       "      <td>1</td>\n",
       "      <td>0</td>\n",
       "      <td>0</td>\n",
       "      <td>1</td>\n",
       "      <td>1</td>\n",
       "      <td>1.0</td>\n",
       "    </tr>\n",
       "    <tr>\n",
       "      <th>4</th>\n",
       "      <td>16</td>\n",
       "      <td>16</td>\n",
       "      <td>16</td>\n",
       "      <td>8</td>\n",
       "      <td>8</td>\n",
       "      <td>8</td>\n",
       "      <td>8</td>\n",
       "      <td>2</td>\n",
       "      <td>1</td>\n",
       "      <td>1</td>\n",
       "      <td>0</td>\n",
       "      <td>1</td>\n",
       "      <td>0</td>\n",
       "      <td>0</td>\n",
       "      <td>1.0</td>\n",
       "    </tr>\n",
       "  </tbody>\n",
       "</table>\n",
       "</div>"
      ],
      "text/plain": [
       "   MWG  NWG  KWG  MDIMC  NDIMC  MDIMA  NDIMB  KWI  VWM  VWN  STRM  STRN  SA  \\\n",
       "0   16   16   16      8      8      8      8    2    1    1     0     0   0   \n",
       "1   16   16   16      8      8      8      8    2    1    1     0     0   0   \n",
       "2   16   16   16      8      8      8      8    2    1    1     0     0   1   \n",
       "3   16   16   16      8      8      8      8    2    1    1     0     0   1   \n",
       "4   16   16   16      8      8      8      8    2    1    1     0     1   0   \n",
       "\n",
       "   SB  Mean_Runtime_1  \n",
       "0   0             1.0  \n",
       "1   1             1.0  \n",
       "2   0             1.0  \n",
       "3   1             1.0  \n",
       "4   0             1.0  "
      ]
     },
     "execution_count": 121,
     "metadata": {},
     "output_type": "execute_result"
    }
   ],
   "source": [
    "data.head()"
   ]
  },
  {
   "cell_type": "code",
   "execution_count": 122,
   "metadata": {},
   "outputs": [],
   "source": [
    "x = data.iloc[:,0:-1].values\n",
    "y = data['Mean_Runtime_1'].values"
   ]
  },
  {
   "cell_type": "code",
   "execution_count": 123,
   "metadata": {},
   "outputs": [],
   "source": [
    "from sklearn import preprocessing\n",
    "scaler = preprocessing.StandardScaler()\n",
    "x = scaler.fit_transform(x)"
   ]
  },
  {
   "cell_type": "code",
   "execution_count": 124,
   "metadata": {},
   "outputs": [],
   "source": [
    "from sklearn.model_selection import train_test_split\n",
    "x_train, x_test, y_train, y_test = train_test_split(x, y, test_size = 0.3, random_state = 42)"
   ]
  },
  {
   "cell_type": "code",
   "execution_count": 125,
   "metadata": {},
   "outputs": [],
   "source": [
    "theta = np.zeros([15,1])\n",
    "\n",
    "m = len(x_train)\n",
    "\n",
    "ones = np.ones((m,1))\n",
    "\n",
    "x_train = np.hstack((ones, x_train))\n"
   ]
  },
  {
   "cell_type": "code",
   "execution_count": 126,
   "metadata": {},
   "outputs": [
    {
     "name": "stdout",
     "output_type": "stream",
     "text": [
      "(169120, 15)\n"
     ]
    }
   ],
   "source": [
    "print(x_train.shape)"
   ]
  },
  {
   "cell_type": "code",
   "execution_count": 127,
   "metadata": {},
   "outputs": [
    {
     "data": {
      "text/plain": [
       "(72480, 14)"
      ]
     },
     "execution_count": 127,
     "metadata": {},
     "output_type": "execute_result"
    }
   ],
   "source": [
    "x_test.shape"
   ]
  },
  {
   "cell_type": "code",
   "execution_count": 128,
   "metadata": {},
   "outputs": [],
   "source": [
    "m1 = len(x_test)\n",
    "\n",
    "ones = np.ones((m1,1))\n",
    "\n",
    "x_test = np.hstack((ones, x_test))"
   ]
  },
  {
   "cell_type": "code",
   "execution_count": 129,
   "metadata": {},
   "outputs": [],
   "source": [
    "y_train = y_train.reshape(len(y_train),1)\n",
    "y_test = y_test.reshape(len(y_test),1)"
   ]
  },
  {
   "cell_type": "code",
   "execution_count": 130,
   "metadata": {},
   "outputs": [
    {
     "name": "stdout",
     "output_type": "stream",
     "text": [
      "(169120, 15)\n",
      "(72480, 15)\n",
      "(169120, 1)\n",
      "(72480, 1)\n"
     ]
    }
   ],
   "source": [
    "print(x_train.shape)\n",
    "print(x_test.shape)\n",
    "\n",
    "\n",
    "print(y_train.shape)\n",
    "print(y_test.shape)"
   ]
  },
  {
   "cell_type": "code",
   "execution_count": 131,
   "metadata": {},
   "outputs": [],
   "source": [
    "def sigmoid(X, theta):\n",
    "    \n",
    "    z = np.dot(X, theta)\n",
    "    \n",
    "    return 1/(1 + np.exp(-z))"
   ]
  },
  {
   "cell_type": "code",
   "execution_count": 132,
   "metadata": {},
   "outputs": [
    {
     "data": {
      "text/plain": [
       "array([[0.5],\n",
       "       [0.5],\n",
       "       [0.5],\n",
       "       ...,\n",
       "       [0.5],\n",
       "       [0.5],\n",
       "       [0.5]])"
      ]
     },
     "execution_count": 132,
     "metadata": {},
     "output_type": "execute_result"
    }
   ],
   "source": [
    "sigmoid(x_train, theta)"
   ]
  },
  {
   "cell_type": "code",
   "execution_count": 133,
   "metadata": {},
   "outputs": [],
   "source": [
    "def costfunction(X, Y, theta):\n",
    "    \n",
    "    m = len(Y)\n",
    "    \n",
    "    predictions = sigmoid(X,theta)\n",
    "    \n",
    "    error = (-Y * np.log(predictions)) - ((1-Y)*np.log(1-predictions))\n",
    "    \n",
    "    cost = 1/m * sum(error)\n",
    "    \n",
    "    return cost\n",
    "  \n",
    "    \n",
    "    "
   ]
  },
  {
   "cell_type": "code",
   "execution_count": 134,
   "metadata": {},
   "outputs": [
    {
     "data": {
      "text/plain": [
       "array([0.69314718])"
      ]
     },
     "execution_count": 134,
     "metadata": {},
     "output_type": "execute_result"
    }
   ],
   "source": [
    "costfunction(x_train, y_train, theta)"
   ]
  },
  {
   "cell_type": "code",
   "execution_count": 135,
   "metadata": {},
   "outputs": [],
   "source": [
    "def gradient_descent(X, Y, B, alpha, iterations):\n",
    "    \n",
    "    cost_history_train = []\n",
    "    \n",
    "    cost_history_test = []\n",
    "    \n",
    "    m = len(Y)\n",
    "    \n",
    "    for iteration in range(iterations):\n",
    "        \n",
    "        h = sigmoid(X,B)\n",
    "        \n",
    "        loss = h - Y\n",
    "        \n",
    "        gradient = X.T.dot(loss) / m\n",
    "        \n",
    "        B = B - alpha * gradient\n",
    "        \n",
    "        \n",
    "        cost_train = costfunction(X, Y, B)\n",
    "        \n",
    "        cost_history_train.append(cost_train)\n",
    "        \n",
    "        \n",
    "        cost_test = costfunction(x_test, y_test, B)\n",
    "        \n",
    "        cost_history_test.append(cost_test)\n",
    "        \n",
    "        \n",
    "        #if len(cost_history_train) > 1:\n",
    "        \n",
    "            #if cost_history_train[iteration-1] - cost_history_train[iteration] <  threshold:\n",
    "                \n",
    "                #break\n",
    "        \n",
    "    return B, cost_history_train, cost_history_test\n"
   ]
  },
  {
   "cell_type": "code",
   "execution_count": 136,
   "metadata": {},
   "outputs": [],
   "source": [
    "B, cost_history_train, cost_history_test = gradient_descent(x_train, y_train, theta, 0.5, 2000)"
   ]
  },
  {
   "cell_type": "code",
   "execution_count": 26,
   "metadata": {},
   "outputs": [
    {
     "data": {
      "text/plain": [
       "Text(0.5, 1.0, 'Cost function using Gradient Descent')"
      ]
     },
     "execution_count": 26,
     "metadata": {},
     "output_type": "execute_result"
    },
    {
     "data": {
      "image/png": "[encoded data removed]",
      "text/plain": [
       "<Figure size 432x288 with 1 Axes>"
      ]
     },
     "metadata": {
      "needs_background": "light"
     },
     "output_type": "display_data"
    }
   ],
   "source": [
    "plt.plot(cost_history_train, label = 'training_cost')\n",
    "\n",
    "plt.plot(cost_history_test, label = 'testning_cost')\n",
    "\n",
    "plt.xlabel(\"Iteration\")\n",
    "\n",
    "plt.ylabel(\"$J(\\Theta)$\")\n",
    "\n",
    "plt.title(\"Cost function using Gradient Descent\")"
   ]
  },
  {
   "cell_type": "code",
   "execution_count": 27,
   "metadata": {},
   "outputs": [
    {
     "data": {
      "text/plain": [
       "array([[ 4.35513497e-04],\n",
       "       [ 1.32454994e+00],\n",
       "       [ 8.58360244e-01],\n",
       "       [ 1.50211886e-01],\n",
       "       [-9.03298128e-01],\n",
       "       [-7.72374325e-01],\n",
       "       [-4.67628224e-02],\n",
       "       [-7.36807872e-02],\n",
       "       [-1.75138651e-02],\n",
       "       [-7.52048154e-02],\n",
       "       [-1.46542848e-01],\n",
       "       [-3.21763063e-01],\n",
       "       [-3.48914219e-02],\n",
       "       [-3.97702531e-01],\n",
       "       [-8.00854199e-02]])"
      ]
     },
     "execution_count": 27,
     "metadata": {},
     "output_type": "execute_result"
    }
   ],
   "source": [
    "B"
   ]
  },
  {
   "cell_type": "code",
   "execution_count": 28,
   "metadata": {},
   "outputs": [],
   "source": [
    "optimized_predictions = sigmoid(x_test, B)"
   ]
  },
  {
   "cell_type": "code",
   "execution_count": 29,
   "metadata": {},
   "outputs": [
    {
     "data": {
      "text/plain": [
       "array([[0.47394902],\n",
       "       [0.83023405],\n",
       "       [0.05119322],\n",
       "       ...,\n",
       "       [0.14031998],\n",
       "       [0.22191484],\n",
       "       [0.53159622]])"
      ]
     },
     "execution_count": 29,
     "metadata": {},
     "output_type": "execute_result"
    }
   ],
   "source": [
    "optimized_predictions"
   ]
  },
  {
   "cell_type": "code",
   "execution_count": 45,
   "metadata": {},
   "outputs": [],
   "source": [
    "def probabilities(x, B):\n",
    "    \n",
    "    optimized_predictions = sigmoid(x, B)\n",
    "\n",
    "    probabilities = []\n",
    "\n",
    "    for i in optimized_predictions:\n",
    "    \n",
    "        if i>0.5:\n",
    "        \n",
    "            probabilities.append(1)\n",
    "        \n",
    "        else:\n",
    "            probabilities.append(0)\n",
    "    \n",
    "    return probabilities\n"
   ]
  },
  {
   "cell_type": "code",
   "execution_count": 32,
   "metadata": {},
   "outputs": [],
   "source": [
    "optimized_cost = costfunction(x_test,y_test, B)"
   ]
  },
  {
   "cell_type": "code",
   "execution_count": 33,
   "metadata": {},
   "outputs": [
    {
     "name": "stdout",
     "output_type": "stream",
     "text": [
      "[0.47795961]\n"
     ]
    }
   ],
   "source": [
    "print(optimized_cost)"
   ]
  },
  {
   "cell_type": "code",
   "execution_count": 34,
   "metadata": {},
   "outputs": [],
   "source": [
    "B1,  cost_history_train1, cost_history_test1 = gradient_descent(x_train, y_train, theta, 0.0001, 2000)\n",
    "\n",
    "B2,  cost_history_train2, cost_history_test2 = gradient_descent(x_train, y_train, theta, 0.001, 2000 )\n",
    "\n",
    "B3,  cost_history_train3, cost_history_test3 = gradient_descent(x_train, y_train, theta, 0.01, 2000)\n",
    "\n",
    "B4,  cost_history_train4, cost_history_test4 = gradient_descent(x_train, y_train, theta, 0.1, 2000)\n"
   ]
  },
  {
   "cell_type": "code",
   "execution_count": 137,
   "metadata": {},
   "outputs": [
    {
     "data": {
      "image/png": "[encoded data removed]",
      "text/plain": [
       "<Figure size 432x288 with 1 Axes>"
      ]
     },
     "metadata": {
      "needs_background": "light"
     },
     "output_type": "display_data"
    }
   ],
   "source": [
    "plt.plot(cost_history_train1,  label='alpha = 0.0001')\n",
    "\n",
    "plt.plot(cost_history_train2,  label ='alpha = 0.001')\n",
    "\n",
    "plt.plot(cost_history_train3,  label ='alpha = 0.01')\n",
    "\n",
    "plt.plot(cost_history_train4,  label ='alpha = 0.1')\n",
    "\n",
    "\n",
    "\n",
    "plt.legend()\n",
    "\n",
    "plt.title('COST of training data with various alphas with no threshold\\n\\n\\n')\n",
    "\n",
    "plt.xlabel('Number of Iterations\\n\\n')\n",
    "\n",
    "plt.ylabel('COST value\\n\\n')\n",
    "\n",
    "plt.show()"
   ]
  },
  {
   "cell_type": "code",
   "execution_count": 150,
   "metadata": {},
   "outputs": [
    {
     "data": {
      "image/png": "[encoded data removed]",
      "text/plain": [
       "<Figure size 432x288 with 1 Axes>"
      ]
     },
     "metadata": {
      "needs_background": "light"
     },
     "output_type": "display_data"
    }
   ],
   "source": [
    "plt.plot(cost_history_test1,  label='alpha = 0.0001')\n",
    "\n",
    "plt.plot(cost_history_test2,  label ='alpha = 0.001')\n",
    "\n",
    "plt.plot(cost_history_test3,  label ='alpha = 0.01')\n",
    "\n",
    "plt.plot(cost_history_test4,  label ='alpha = 0.1')\n",
    "\n",
    "plt.legend()\n",
    "\n",
    "plt.title('COST of testing data with various alphas and no threshold\\n\\n')\n",
    "\n",
    "plt.xlabel('Number of Iterations\\n\\n')\n",
    "\n",
    "plt.ylabel('COST value\\n\\n')\n",
    "\n",
    "plt.show()"
   ]
  },
  {
   "cell_type": "code",
   "execution_count": 139,
   "metadata": {},
   "outputs": [],
   "source": [
    "y_pred_train1 =  probabilities(x_train, B1)\n",
    "y_pred_train2 = probabilities(x_train, B2)\n",
    "y_pred_train3 = probabilities(x_train, B3)\n",
    "y_pred_train4 = probabilities(x_train, B4)\n",
    "\n",
    "y_pred_test1 = probabilities(x_test, B1)\n",
    "y_pred_test2 = probabilities(x_test, B2)\n",
    "y_pred_test3 = probabilities(x_test, B3)\n",
    "y_pred_test4 = probabilities(x_test, B4)\n"
   ]
  },
  {
   "cell_type": "code",
   "execution_count": 140,
   "metadata": {},
   "outputs": [],
   "source": [
    "from sklearn.metrics import accuracy_score"
   ]
  },
  {
   "cell_type": "code",
   "execution_count": 141,
   "metadata": {},
   "outputs": [
    {
     "name": "stdout",
     "output_type": "stream",
     "text": [
      "0.7769512771996215\n",
      "0.7843483916745506\n",
      "0.8078169347209082\n",
      "0.8108561967833491\n",
      "0.775096578366446\n",
      "0.7826848785871965\n",
      "0.8076986754966887\n",
      "0.8104994481236203\n"
     ]
    }
   ],
   "source": [
    "accuracy_train1 = accuracy_score(y_train, y_pred_train1)\n",
    "\n",
    "accuracy_train2 = accuracy_score(y_train, y_pred_train2)\n",
    "\n",
    "accuracy_train3 = accuracy_score(y_train, y_pred_train3)\n",
    "\n",
    "accuracy_train4 = accuracy_score(y_train, y_pred_train4)\n",
    "\n",
    "accuracy_test1 = accuracy_score(y_test, y_pred_test1)\n",
    "\n",
    "accuracy_test2 = accuracy_score(y_test, y_pred_test2)\n",
    "\n",
    "accuracy_test3 = accuracy_score(y_test, y_pred_test3)\n",
    "\n",
    "accuracy_test4 = accuracy_score(y_test, y_pred_test4)\n",
    "\n",
    "print(accuracy_train1)\n",
    "\n",
    "print(accuracy_train2)\n",
    "\n",
    "print(accuracy_train3)\n",
    "\n",
    "print(accuracy_train4)\n",
    "\n",
    "print(accuracy_test1)\n",
    "\n",
    "print(accuracy_test2)\n",
    "\n",
    "print(accuracy_test3)\n",
    "\n",
    "print(accuracy_test4)"
   ]
  },
  {
   "cell_type": "code",
   "execution_count": 142,
   "metadata": {},
   "outputs": [],
   "source": [
    "training_accuracies = [accuracy_train1, accuracy_train2, accuracy_train3,  accuracy_train4]\n",
    "\n",
    "testing_accuracies = [accuracy_test1, accuracy_test2, accuracy_test3,  accuracy_test4]\n",
    "\n",
    "alpha_values = [0.0001,0.001,0.01,0.1]"
   ]
  },
  {
   "cell_type": "code",
   "execution_count": 143,
   "metadata": {},
   "outputs": [
    {
     "data": {
      "image/png": "[encoded data removed]",
      "text/plain": [
       "<Figure size 432x288 with 1 Axes>"
      ]
     },
     "metadata": {
      "needs_background": "light"
     },
     "output_type": "display_data"
    }
   ],
   "source": [
    "plt.plot(np.log(alpha_values), training_accuracies, label = 'training_accuracies')\n",
    "plt.plot(np.log(alpha_values), testing_accuracies, label = 'testing_accuracies')\n",
    "plt.legend()\n",
    "\n",
    "\n",
    "plt.title('COST VS  Alpha Values \\n\\n')\n",
    "\n",
    "plt.xlabel('Alpha values\\n\\n')\n",
    "\n",
    "plt.ylabel('COST value\\n\\n')\n",
    "\n",
    "plt.show()"
   ]
  },
  {
   "cell_type": "code",
   "execution_count": 145,
   "metadata": {},
   "outputs": [],
   "source": [
    "def gradient_descent_t(X, Y, B, alpha, iterations, threshold):\n",
    "    \n",
    "    cost_history_train = []\n",
    "    \n",
    "    cost_history_test = []\n",
    "    \n",
    "    m = len(Y)\n",
    "    \n",
    "    for iteration in range(iterations):\n",
    "        \n",
    "        h = sigmoid(X,B)\n",
    "        \n",
    "        loss = h - Y\n",
    "        \n",
    "        gradient = X.T.dot(loss) / m\n",
    "        \n",
    "        B = B - alpha * gradient\n",
    "        \n",
    "        \n",
    "        cost_train = costfunction(X, Y, B)\n",
    "        \n",
    "        cost_history_train.append(cost_train)\n",
    "        \n",
    "        \n",
    "        cost_test = costfunction(x_test, y_test, B)\n",
    "        \n",
    "        cost_history_test.append(cost_test)\n",
    "        \n",
    "        \n",
    "        if len(cost_history_train) > 1:\n",
    "        \n",
    "            if cost_history_train[iteration-1] - cost_history_train[iteration] <  threshold:\n",
    "                \n",
    "                break\n",
    "        \n",
    "    return B, cost_history_train, cost_history_test\n"
   ]
  },
  {
   "cell_type": "code",
   "execution_count": 146,
   "metadata": {},
   "outputs": [],
   "source": [
    "B5, cost_history_train5, cost_history_test5 = gradient_descent_t(x_train, y_train, theta, 0.01, 2000, 0.0001)\n",
    "\n",
    "B6, cost_history_train6, cost_history_test6 = gradient_descent_t(x_train, y_train, theta, 0.01, 2000, 0.05 )\n",
    "\n",
    "B7, cost_history_train7, cost_history_test7 = gradient_descent_t(x_train, y_train, theta, 0.01, 2000, 0.1)\n",
    "\n",
    "B8, cost_history_train8, cost_history_test8 = gradient_descent_t(x_train, y_train, theta, 0.01,2000, 0.0000003)\n"
   ]
  },
  {
   "cell_type": "code",
   "execution_count": 147,
   "metadata": {},
   "outputs": [],
   "source": [
    "y_pred_train5 =  probabilities(x_train, B5)\n",
    "y_pred_train6 = probabilities(x_train, B6)\n",
    "y_pred_train7 = probabilities(x_train, B7)\n",
    "y_pred_train8 = probabilities(x_train, B8)\n",
    "\n",
    "y_pred_test5 = probabilities(x_test, B5)\n",
    "y_pred_test6 = probabilities(x_test, B6)\n",
    "y_pred_test7 = probabilities(x_test, B7)\n",
    "y_pred_test8 = probabilities(x_test, B8)\n"
   ]
  },
  {
   "cell_type": "code",
   "execution_count": 148,
   "metadata": {},
   "outputs": [
    {
     "name": "stdout",
     "output_type": "stream",
     "text": [
      "0.7942999053926206\n",
      "0.7760879848628193\n",
      "0.7760879848628193\n",
      "0.8078169347209082\n",
      "0.7934878587196468\n",
      "0.774296357615894\n",
      "0.774296357615894\n",
      "0.8076986754966887\n"
     ]
    }
   ],
   "source": [
    "accuracy_train5 = accuracy_score(y_train, y_pred_train5)\n",
    "\n",
    "accuracy_train6 = accuracy_score(y_train, y_pred_train6)\n",
    "\n",
    "accuracy_train7 = accuracy_score(y_train, y_pred_train7)\n",
    "\n",
    "accuracy_train8 = accuracy_score(y_train, y_pred_train8)\n",
    "\n",
    "accuracy_test5 = accuracy_score(y_test, y_pred_test5)\n",
    "\n",
    "accuracy_test6 = accuracy_score(y_test, y_pred_test6)\n",
    "\n",
    "accuracy_test7 = accuracy_score(y_test, y_pred_test7)\n",
    "\n",
    "accuracy_test8 = accuracy_score(y_test, y_pred_test8)\n",
    "\n",
    "print(accuracy_train5)\n",
    "\n",
    "print(accuracy_train6)\n",
    "\n",
    "print(accuracy_train7)\n",
    "\n",
    "print(accuracy_train8)\n",
    "\n",
    "print(accuracy_test5)\n",
    "\n",
    "print(accuracy_test6)\n",
    "\n",
    "print(accuracy_test7)\n",
    "\n",
    "print(accuracy_test8)"
   ]
  },
  {
   "cell_type": "code",
   "execution_count": 149,
   "metadata": {},
   "outputs": [],
   "source": [
    "training_accuracies1 = [accuracy_train5, accuracy_train6, accuracy_train7,  accuracy_train8]\n",
    "\n",
    "testing_accuracies1 = [accuracy_test5, accuracy_test6, accuracy_test7,  accuracy_test8]\n",
    "\n",
    "threshold_values = [0.0001,0.05,0.1,0.0000003]"
   ]
  },
  {
   "cell_type": "code",
   "execution_count": 82,
   "metadata": {},
   "outputs": [
    {
     "data": {
      "text/plain": [
       "<matplotlib.legend.Legend at 0x196b3d3aef0>"
      ]
     },
     "execution_count": 82,
     "metadata": {},
     "output_type": "execute_result"
    },
    {
     "data": {
      "image/png": "[encoded data removed]",
      "text/plain": [
       "<Figure size 432x288 with 1 Axes>"
      ]
     },
     "metadata": {
      "needs_background": "light"
     },
     "output_type": "display_data"
    }
   ],
   "source": [
    "plt.plot(np.log(threshold_values), training_accuracies1, label = 'training_accuracies')\n",
    "plt.plot(np.log(threshold_values), testing_accuracies1, label = 'testing_accuracies')\n",
    "plt.legend()\n"
   ]
  },
  {
   "cell_type": "code",
   "execution_count": 84,
   "metadata": {},
   "outputs": [],
   "source": [
    "B_f, cost_history_train_f, cost_history_test_f = gradient_descent_t(x_train, y_train, theta, 0.01, 2000, 10**-12)"
   ]
  },
  {
   "cell_type": "code",
   "execution_count": 152,
   "metadata": {},
   "outputs": [],
   "source": [
    "p_f = probabilities(x_test, B_f)"
   ]
  },
  {
   "cell_type": "code",
   "execution_count": 156,
   "metadata": {},
   "outputs": [
    {
     "data": {
      "text/plain": [
       "0.8076986754966887"
      ]
     },
     "execution_count": 156,
     "metadata": {},
     "output_type": "execute_result"
    }
   ],
   "source": [
    "accuracy_score(y_test, p_f)"
   ]
  },
  {
   "cell_type": "code",
   "execution_count": 158,
   "metadata": {},
   "outputs": [],
   "source": [
    "p_f_i = probabilities(x_test, theta)"
   ]
  },
  {
   "cell_type": "code",
   "execution_count": 159,
   "metadata": {},
   "outputs": [
    {
     "data": {
      "text/plain": [
       "0.4984271523178808"
      ]
     },
     "execution_count": 159,
     "metadata": {},
     "output_type": "execute_result"
    }
   ],
   "source": [
    "accuracy_score(y_test, p_f_i)"
   ]
  },
  {
   "cell_type": "code",
   "execution_count": null,
   "metadata": {},
   "outputs": [],
   "source": []
  },
  {
   "cell_type": "code",
   "execution_count": null,
   "metadata": {},
   "outputs": [],
   "source": []
  },
  {
   "cell_type": "code",
   "execution_count": null,
   "metadata": {},
   "outputs": [],
   "source": []
  },
  {
   "cell_type": "code",
   "execution_count": null,
   "metadata": {},
   "outputs": [],
   "source": []
  },
  {
   "cell_type": "code",
   "execution_count": null,
   "metadata": {},
   "outputs": [],
   "source": []
  },
  {
   "cell_type": "code",
   "execution_count": null,
   "metadata": {},
   "outputs": [],
   "source": []
  },
  {
   "cell_type": "code",
   "execution_count": null,
   "metadata": {},
   "outputs": [],
   "source": []
  },
  {
   "cell_type": "code",
   "execution_count": null,
   "metadata": {},
   "outputs": [],
   "source": []
  },
  {
   "cell_type": "code",
   "execution_count": null,
   "metadata": {},
   "outputs": [],
   "source": []
  },
  {
   "cell_type": "code",
   "execution_count": null,
   "metadata": {},
   "outputs": [],
   "source": []
  },
  {
   "cell_type": "code",
   "execution_count": null,
   "metadata": {},
   "outputs": [],
   "source": []
  },
  {
   "cell_type": "code",
   "execution_count": null,
   "metadata": {},
   "outputs": [],
   "source": []
  },
  {
   "cell_type": "code",
   "execution_count": null,
   "metadata": {},
   "outputs": [],
   "source": []
  },
  {
   "cell_type": "code",
   "execution_count": null,
   "metadata": {},
   "outputs": [],
   "source": []
  },
  {
   "cell_type": "code",
   "execution_count": null,
   "metadata": {},
   "outputs": [],
   "source": []
  },
  {
   "cell_type": "code",
   "execution_count": null,
   "metadata": {},
   "outputs": [],
   "source": []
  },
  {
   "cell_type": "code",
   "execution_count": null,
   "metadata": {},
   "outputs": [],
   "source": []
  },
  {
   "cell_type": "code",
   "execution_count": null,
   "metadata": {},
   "outputs": [],
   "source": []
  },
  {
   "cell_type": "code",
   "execution_count": null,
   "metadata": {},
   "outputs": [],
   "source": []
  },
  {
   "cell_type": "code",
   "execution_count": null,
   "metadata": {},
   "outputs": [],
   "source": []
  },
  {
   "cell_type": "code",
   "execution_count": null,
   "metadata": {},
   "outputs": [],
   "source": []
  },
  {
   "cell_type": "code",
   "execution_count": null,
   "metadata": {},
   "outputs": [],
   "source": []
  },
  {
   "cell_type": "code",
   "execution_count": null,
   "metadata": {},
   "outputs": [],
   "source": []
  },
  {
   "cell_type": "code",
   "execution_count": null,
   "metadata": {},
   "outputs": [],
   "source": []
  },
  {
   "cell_type": "code",
   "execution_count": null,
   "metadata": {},
   "outputs": [],
   "source": []
  },
  {
   "cell_type": "code",
   "execution_count": null,
   "metadata": {},
   "outputs": [],
   "source": []
  },
  {
   "cell_type": "code",
   "execution_count": null,
   "metadata": {},
   "outputs": [],
   "source": []
  },
  {
   "cell_type": "code",
   "execution_count": null,
   "metadata": {},
   "outputs": [],
   "source": []
  },
  {
   "cell_type": "code",
   "execution_count": null,
   "metadata": {},
   "outputs": [],
   "source": []
  },
  {
   "cell_type": "code",
   "execution_count": null,
   "metadata": {},
   "outputs": [],
   "source": []
  },
  {
   "cell_type": "code",
   "execution_count": null,
   "metadata": {},
   "outputs": [],
   "source": []
  },
  {
   "cell_type": "code",
   "execution_count": null,
   "metadata": {},
   "outputs": [],
   "source": []
  },
  {
   "cell_type": "code",
   "execution_count": null,
   "metadata": {},
   "outputs": [],
   "source": []
  },
  {
   "cell_type": "code",
   "execution_count": null,
   "metadata": {},
   "outputs": [],
   "source": []
  },
  {
   "cell_type": "code",
   "execution_count": null,
   "metadata": {},
   "outputs": [],
   "source": []
  },
  {
   "cell_type": "code",
   "execution_count": null,
   "metadata": {},
   "outputs": [],
   "source": []
  },
  {
   "cell_type": "code",
   "execution_count": null,
   "metadata": {},
   "outputs": [],
   "source": []
  }
 ],
 "metadata": {
  "kernelspec": {
   "display_name": "Python 3",
   "language": "python",
   "name": "python3"
  },
  "language_info": {
   "codemirror_mode": {
    "name": "ipython",
    "version": 3
   },
   "file_extension": ".py",
   "mimetype": "text/x-python",
   "name": "python",
   "nbconvert_exporter": "python",
   "pygments_lexer": "ipython3",
   "version": "3.7.3"
  }
 },
 "nbformat": 4,
 "nbformat_minor": 2
}
